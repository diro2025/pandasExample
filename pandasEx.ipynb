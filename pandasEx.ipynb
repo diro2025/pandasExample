{
 "cells": [
  {
   "cell_type": "code",
   "execution_count": 1,
   "id": "ae653dd2",
   "metadata": {},
   "outputs": [],
   "source": [
    "import pandas as pd"
   ]
  },
  {
   "cell_type": "code",
   "execution_count": null,
   "id": "17217485",
   "metadata": {},
   "outputs": [
    {
     "data": {
      "text/plain": [
       "34"
      ]
     },
     "execution_count": 4,
     "metadata": {},
     "output_type": "execute_result"
    }
   ],
   "source": [
    "file_path = './test.csv'\n",
    "try:\n",
    "    df =  pd.read_csv(file_path)\n",
    "except FileNotFoundError:\n",
    "    print(f\"error: the file '{file_path}' was not found\")\n",
    "\n",
    "#print(df.head())\n",
    "len(df) #row count"
   ]
  },
  {
   "cell_type": "code",
   "execution_count": 5,
   "id": "4b39282f",
   "metadata": {},
   "outputs": [
    {
     "name": "stderr",
     "output_type": "stream",
     "text": [
      "/var/folders/8p/1fgn5py92cd71_b8yd6fy2w80000gn/T/ipykernel_75983/2360417512.py:1: UserWarning: Could not infer format, so each element will be parsed individually, falling back to `dateutil`. To ensure parsing is consistent and as-expected, please specify a format.\n",
      "  df['c3'] = pd.to_datetime(df['c3'])\n"
     ]
    }
   ],
   "source": [
    "df['c3'] = pd.to_datetime(df['c3'])\n",
    "df['c0'] = df['c1'].astype(str) + '_'+ df['c2'].astype(str) +'_'+ df['c3'].dt.strftime('%Y%m%d')\n",
    "new_order = ['c0', 'c1', 'c2', 'c3', 'c4']\n",
    "df = df[new_order]"
   ]
  },
  {
   "cell_type": "code",
   "execution_count": 7,
   "id": "a4364861",
   "metadata": {},
   "outputs": [
    {
     "name": "stdout",
     "output_type": "stream",
     "text": [
      "                  c0  c1    c2         c3   c4\n",
      "0     1_bob_20250401   1   bob 2025-04-01   on\n",
      "1     2_bob_20250401   2   bob 2025-04-01   on\n",
      "2     3_bob_20250403   3   bob 2025-04-03   on\n",
      "3     4_bob_20250404   4   bob 2025-04-04   on\n",
      "4     4_bob_20250405   4   bob 2025-04-05   on\n",
      "5     5_bob_20250406   5   bob 2025-04-06   on\n",
      "6     6_bob_20250407   6   bob 2025-04-07   on\n",
      "7     7_bob_20250408   7   bob 2025-04-08   on\n",
      "8     8_bob_20250409   8   bob 2025-04-09   on\n",
      "9     9_bob_20250401   9   bob 2025-04-01   on\n",
      "10    9_bob_20250413   9   bob 2025-04-13   on\n",
      "11    9_bob_20250414   9   bob 2025-04-14   on\n",
      "12    9_bob_20250415   9   bob 2025-04-15   on\n",
      "13   10_bob_20250416  10   bob 2025-04-16  off\n",
      "14   12_bob_20250417  12   bob 2025-04-17  off\n",
      "15   11_bob_20250418  11   bob 2025-04-18  off\n",
      "16   2_mike_20250420   2  mike 2025-04-20  off\n",
      "17   3_mike_20250421   3  mike 2025-04-21  off\n",
      "18   4_mike_20250422   4  mike 2025-04-22  off\n",
      "19   5_mike_20250423   5  mike 2025-04-23  off\n",
      "20   6_mike_20250424   6  mike 2025-04-24  off\n",
      "21   7_mike_20250425   7  mike 2025-04-25   on\n",
      "22  88_mike_20250426  88  mike 2025-04-26   on\n",
      "23  99_mike_20250427  99  mike 2025-04-27  off\n",
      "24   6_john_20250428   6  john 2025-04-28  off\n",
      "25  45_john_20250429  45  john 2025-04-29  off\n",
      "26  45_mike_20250430  45  mike 2025-04-30  off\n",
      "27  45_mike_20250502  45  mike 2025-05-02  off\n",
      "28   5_mike_20250504   5  mike 2025-05-04  off\n"
     ]
    },
    {
     "data": {
      "text/plain": [
       "29"
      ]
     },
     "execution_count": 7,
     "metadata": {},
     "output_type": "execute_result"
    }
   ],
   "source": [
    "df_distinct = df.drop_duplicates(subset=['c0'], keep='first').reset_index(drop=True)\n",
    "print(df_distinct)\n",
    "len(df_distinct) #row count"
   ]
  },
  {
   "cell_type": "code",
   "execution_count": null,
   "id": "9d92567f",
   "metadata": {},
   "outputs": [],
   "source": []
  }
 ],
 "metadata": {
  "kernelspec": {
   "display_name": "base",
   "language": "python",
   "name": "python3"
  },
  "language_info": {
   "codemirror_mode": {
    "name": "ipython",
    "version": 3
   },
   "file_extension": ".py",
   "mimetype": "text/x-python",
   "name": "python",
   "nbconvert_exporter": "python",
   "pygments_lexer": "ipython3",
   "version": "3.12.7"
  }
 },
 "nbformat": 4,
 "nbformat_minor": 5
}
